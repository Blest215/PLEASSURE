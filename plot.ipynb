{
 "cells": [
  {
   "cell_type": "code",
   "execution_count": null,
   "id": "2adde201",
   "metadata": {
    "scrolled": false
   },
   "outputs": [],
   "source": [
    "%matplotlib inline\n",
    "\n",
    "import os\n",
    "import json\n",
    "import matplotlib.pyplot as plt\n",
    "import pandas as pd\n",
    "import seaborn as sns\n",
    "\n",
    "from IPython.display import Image, display\n",
    "\n",
    "px = 1 / plt.rcParams['figure.dpi']\n",
    "\n",
    "sns.set_theme(\n",
    "    style='darkgrid',\n",
    "    font_scale=2,\n",
    "    rc={\n",
    "        'figure.figsize': (1920 * px, 1080 * px),\n",
    "        'axes.labelsize': 48,\n",
    "        'xtick.labelsize': 36,\n",
    "        'ytick.labelsize': 36,\n",
    "        'legend.fontsize': 36,\n",
    "        'grid.linewidth': 2,\n",
    "    }\n",
    ")\n",
    "\n",
    "datecode = os.path.basename(os.getcwd())\n",
    "print(f\"Experiment code: {datecode}\")\n",
    "\n",
    "configuration = json.load(open(f'configuration_{datecode}.txt'))\n",
    "\n",
    "def get_dataframe(name):\n",
    "    return pd.read_csv(f'{name}_{datecode}.csv')"
   ]
  },
  {
   "cell_type": "markdown",
   "id": "238a1cab",
   "metadata": {},
   "source": [
    "# Evaluation"
   ]
  },
  {
   "cell_type": "markdown",
   "id": "42e808a8",
   "metadata": {},
   "source": [
    "## Reward"
   ]
  },
  {
   "cell_type": "code",
   "execution_count": null,
   "id": "7d5995db",
   "metadata": {
    "scrolled": false
   },
   "outputs": [],
   "source": [
    "df = get_dataframe('evaluation')\n",
    "plot = sns.boxplot(\n",
    "    data=df[df['Users'] == 5], x='Day', y='Reward', hue='Agent', \n",
    ")\n",
    "plot.legend(facecolor='white', loc='lower right')"
   ]
  },
  {
   "cell_type": "code",
   "execution_count": null,
   "id": "4d7b6372",
   "metadata": {
    "scrolled": false
   },
   "outputs": [],
   "source": [
    "df = get_dataframe('evaluation')\n",
    "plot = sns.lineplot(\n",
    "    data=df[df['Users'] == 5], x='Day', y='Reward', hue='Agent', style='Agent',\n",
    "    markers=True, markersize=24, linewidth=3,\n",
    ")\n",
    "plot.legend(facecolor='white', loc='lower right', markerscale=3)"
   ]
  },
  {
   "cell_type": "markdown",
   "id": "7dfaceb8",
   "metadata": {},
   "source": [
    "## Performance score"
   ]
  },
  {
   "cell_type": "code",
   "execution_count": null,
   "id": "77a524b1",
   "metadata": {
    "scrolled": false
   },
   "outputs": [],
   "source": [
    "df = get_dataframe('evaluation')\n",
    "plot = sns.boxplot(\n",
    "    data=df[df['Users'] == 5], x='Day', y='Performance Score', hue='Agent', \n",
    ")\n",
    "plot.legend(facecolor='white', loc='lower right')"
   ]
  },
  {
   "cell_type": "code",
   "execution_count": null,
   "id": "ee3dfe58",
   "metadata": {
    "scrolled": false
   },
   "outputs": [],
   "source": [
    "df = get_dataframe('evaluation')\n",
    "plot = sns.lineplot(\n",
    "    data=df[df['Users'] == 5], x='Day', y='Performance Score', hue='Agent', style='Agent',\n",
    "    markers=True, markersize=24, linewidth=3,\n",
    ")\n",
    "plot.legend(facecolor='white', loc='lower right', markerscale=3)"
   ]
  },
  {
   "cell_type": "markdown",
   "id": "c417a225",
   "metadata": {},
   "source": [
    "## Per users"
   ]
  },
  {
   "cell_type": "code",
   "execution_count": null,
   "id": "deb60224",
   "metadata": {
    "scrolled": false
   },
   "outputs": [],
   "source": [
    "df = get_dataframe('evaluation')\n",
    "plot = sns.catplot(\n",
    "    data=df[df['Day'] == 5], x='Agent', y='Reward', col='Users', \n",
    "    kind='box', legend=True, margin_titles=True, showfliers=False,\n",
    ")\n",
    "plot.set_xticklabels(rotation=90)\n",
    "plot.set(xlabel=None)"
   ]
  },
  {
   "cell_type": "markdown",
   "id": "b1c928d7",
   "metadata": {},
   "source": [
    "# Time"
   ]
  },
  {
   "cell_type": "markdown",
   "id": "58ee282c",
   "metadata": {},
   "source": [
    "## Simulation time (testing)"
   ]
  },
  {
   "cell_type": "code",
   "execution_count": null,
   "id": "e94f1a8c",
   "metadata": {
    "scrolled": false
   },
   "outputs": [],
   "source": [
    "df = get_dataframe('time')\n",
    "plot = sns.boxplot(\n",
    "    data=df[df['Train'] == False], x='Agent', y='Simulation Time',\n",
    "    showfliers=False, linewidth=3,\n",
    ")"
   ]
  },
  {
   "cell_type": "markdown",
   "id": "e0558f69",
   "metadata": {},
   "source": [
    "## Mean selection time (testing)"
   ]
  },
  {
   "cell_type": "code",
   "execution_count": null,
   "id": "2e694de0",
   "metadata": {
    "scrolled": false
   },
   "outputs": [],
   "source": [
    "df = get_dataframe('time')\n",
    "plot = sns.boxplot(\n",
    "    data=df[df['Train'] == False], x='Agent', y='Mean Selection Time',\n",
    "    showfliers=False, linewidth=3,\n",
    ")"
   ]
  },
  {
   "cell_type": "markdown",
   "id": "e4eb148f",
   "metadata": {},
   "source": [
    "## Simulation time (training)"
   ]
  },
  {
   "cell_type": "code",
   "execution_count": null,
   "id": "fa7aafb0",
   "metadata": {
    "scrolled": false
   },
   "outputs": [],
   "source": [
    "df = get_dataframe('time')\n",
    "plot = sns.boxplot(\n",
    "    data=df[df['Train'] == True], x='Agent', y='Simulation Time',\n",
    "    showfliers=False, linewidth=3,\n",
    ")"
   ]
  },
  {
   "cell_type": "markdown",
   "id": "5703ea26",
   "metadata": {},
   "source": [
    "## Mean training time"
   ]
  },
  {
   "cell_type": "code",
   "execution_count": null,
   "id": "1b476f6c",
   "metadata": {
    "scrolled": false
   },
   "outputs": [],
   "source": [
    "df = get_dataframe('time')\n",
    "plot = sns.boxplot(\n",
    "    data=df[df['Train'] == True], x='Agent', y='Mean Training Time',\n",
    "    showfliers=False, linewidth=3,\n",
    ")"
   ]
  },
  {
   "cell_type": "markdown",
   "id": "ab1a9881",
   "metadata": {},
   "source": [
    "# Details"
   ]
  },
  {
   "cell_type": "markdown",
   "id": "ab686a37",
   "metadata": {},
   "source": [
    "## Settings"
   ]
  },
  {
   "cell_type": "code",
   "execution_count": null,
   "id": "07e8986a",
   "metadata": {
    "scrolled": false
   },
   "outputs": [],
   "source": [
    "print(json.dumps(configuration, indent=4))"
   ]
  },
  {
   "cell_type": "markdown",
   "id": "ef1040e1",
   "metadata": {},
   "source": [
    "## Environments"
   ]
  },
  {
   "cell_type": "code",
   "execution_count": null,
   "id": "c0a58ab0",
   "metadata": {
    "scrolled": false
   },
   "outputs": [],
   "source": [
    "for env in [env for env in sorted(os.listdir(f'.')) if 'Env' in env]:\n",
    "        print(f'./{env}')\n",
    "        display(Image(filename=f'./{env}/{env}.png'))"
   ]
  },
  {
   "cell_type": "markdown",
   "id": "63a6067d",
   "metadata": {},
   "source": [
    "## Model"
   ]
  },
  {
   "cell_type": "code",
   "execution_count": null,
   "id": "d5c23e4a",
   "metadata": {
    "scrolled": true
   },
   "outputs": [],
   "source": [
    "num_users_training = json.load(open(f'configuration_{datecode}.txt'))['num_users_training']\n",
    "\n",
    "for env in [env for env in sorted(os.listdir(f'.')) if 'Env' in env]:\n",
    "    for name in [name for name in os.listdir(f'./{env}') if f'{num_users_training}users' in name]:\n",
    "        for image in [image for image in sorted(os.listdir(f'./{env}/{name}')) if '.png' in image]:\n",
    "            print(f'{env} {name} {image}')\n",
    "            display(Image(filename=f'{env}/{name}/{image}'))"
   ]
  },
  {
   "cell_type": "markdown",
   "id": "0c638a00",
   "metadata": {},
   "source": [
    "## Log"
   ]
  },
  {
   "cell_type": "code",
   "execution_count": null,
   "id": "4bab0c68",
   "metadata": {
    "scrolled": true
   },
   "outputs": [],
   "source": [
    "for l in open(f'log_{datecode}.txt'):\n",
    "    print(l.strip())"
   ]
  }
 ],
 "metadata": {
  "kernelspec": {
   "display_name": "Python 3 (ipykernel)",
   "language": "python",
   "name": "python3"
  },
  "language_info": {
   "codemirror_mode": {
    "name": "ipython",
    "version": 3
   },
   "file_extension": ".py",
   "mimetype": "text/x-python",
   "name": "python",
   "nbconvert_exporter": "python",
   "pygments_lexer": "ipython3",
   "version": "3.9.13"
  }
 },
 "nbformat": 4,
 "nbformat_minor": 5
}
